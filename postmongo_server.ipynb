{
 "cells": [
  {
   "cell_type": "code",
   "execution_count": 3,
   "metadata": {},
   "outputs": [],
   "source": [
    "import sqlite3, socket, json"
   ]
  },
  {
   "cell_type": "code",
   "execution_count": 4,
   "metadata": {},
   "outputs": [],
   "source": [
    "sock = socket.socket(socket.AF_INET,socket.SOCK_STREAM)\n",
    "sock.bind(('127.0.0.1',5050))\n",
    "sock.listen(5)\n",
    "BUFFER_MAX = 1024"
   ]
  },
  {
   "cell_type": "code",
   "execution_count": 9,
   "metadata": {},
   "outputs": [],
   "source": [
    "c, addr = sock.accept()   \n",
    "data = b''\n",
    "while True:\n",
    "    recv = c.recv(BUFFER_MAX)\n",
    "    data += recv\n",
    "    if data[-3:] == b':::': break\n",
    "payload = json.loads(data.decode('utf-8')[:-3])\n"
   ]
  },
  {
   "cell_type": "code",
   "execution_count": 10,
   "metadata": {},
   "outputs": [],
   "source": [
    "collection = payload['table']\n",
    "data = payload['data']"
   ]
  },
  {
   "cell_type": "code",
   "execution_count": 12,
   "metadata": {},
   "outputs": [
    {
     "data": {
      "text/plain": [
       "[{'track': 'Explosia', 'artist': 'Gojira'},\n",
       " {'track': 'Global Warming', 'artist': 'Gojira'},\n",
       " {'track': 'To Sirius', 'artist': 'Gojira'},\n",
       " {'track': 'From Mars', 'artist': 'Gojira'},\n",
       " {'track': 'World to Come', 'artist': 'Gojira'},\n",
       " {'track': 'In The Wilderness', 'artist': 'Gojira'},\n",
       " {'track': 'Flying Whales', 'artist': 'Gojira'},\n",
       " {'track': 'Silvera', 'artist': 'Gojira'},\n",
       " {'track': 'The Cell', 'artist': 'Gojira'},\n",
       " {'track': 'Yellow Stone', 'artist': 'Gojira'},\n",
       " {'track': 'Only Pain', 'artist': 'Gojira'},\n",
       " {'track': 'Low Lands', 'artist': 'Gojira'},\n",
       " {'track': 'The Shooting Star', 'artist': 'Gojira'},\n",
       " {'track': 'Pray', 'artist': 'Gojira'},\n",
       " {'track': 'Magma', 'artist': 'Gojira'},\n",
       " {'track': 'Stranded', 'artist': 'Gojira'},\n",
       " {'track': 'Liberation', 'artist': 'Gojira'},\n",
       " {'track': 'Finale', 'artist': 'Slipknot'},\n",
       " {'track': 'De Sade', 'artist': 'Slipknot'},\n",
       " {'track': 'H377', 'artist': 'Slipknot'},\n",
       " {'track': 'Heirloom', 'artist': 'Slipknot'},\n",
       " {'track': 'Acidic', 'artist': 'Slipknot'},\n",
       " {'track': 'Medicine for the Dead', 'artist': 'Slipknot'},\n",
       " {'track': 'Warranty', 'artist': 'Slipknot'},\n",
       " {'track': 'Hive Mind', 'artist': 'Slipknot'},\n",
       " {'track': 'Yen', 'artist': 'Slipknot'},\n",
       " {'track': 'The Chapeltown Rag', 'artist': 'Slipknot'},\n",
       " {'track': 'The Dying Song (Time To Sing)', 'artist': 'Slipknot'},\n",
       " {'track': 'Adderall', 'artist': 'Slipknot'},\n",
       " {'track': 'Override', 'artist': 'Slipknot'},\n",
       " {'track': 'If Rain Is What You Want', 'artist': 'Slipknot'},\n",
       " {'track': 'All Out Life', 'artist': 'Slipknot'},\n",
       " {'track': 'Beneath the Surface', 'artist': 'Dream Theater'},\n",
       " {'track': 'Far from Heaven', 'artist': 'Dream Theater'},\n",
       " {'track': 'Lost Not Forgotten', 'artist': 'Dream Theater'},\n",
       " {'track': 'This Is the Life', 'artist': 'Dream Theater'},\n",
       " {'track': 'Breaking All Illusions', 'artist': 'Dream Theater'},\n",
       " {'track': 'Bridges in the Sky', 'artist': 'Dream Theater'},\n",
       " {'track': 'Build Me Up, Break Me Down', 'artist': 'Dream Theater'},\n",
       " {'track': 'Outcry', 'artist': 'Dream Theater'},\n",
       " {'track': 'On the Backs of Angels', 'artist': 'Dream Theater'},\n",
       " {'track': 'Scene Two: II. Strange Déjà Vu', 'artist': 'Dream Theater'},\n",
       " {'track': 'Waste', 'artist': 'Seether'},\n",
       " {'track': 'Eyes Of The Devil', 'artist': 'Seether'},\n",
       " {'track': 'FMLYHM', 'artist': 'Seether'},\n",
       " {'track': \"Don't Believe\", 'artist': 'Seether'},\n",
       " {'track': 'Rise Above This', 'artist': 'Seether'},\n",
       " {'track': 'Breakdown', 'artist': 'Seether'},\n",
       " {'track': 'Careless Whisper - Strings Version', 'artist': 'Seether'},\n",
       " {'track': 'No Jesus Christ', 'artist': 'Seether'},\n",
       " {'track': 'AOV', 'artist': 'Slipknot'},\n",
       " {'track': 'Sarcastrophe', 'artist': 'Slipknot'},\n",
       " {'track': 'XIX', 'artist': 'Slipknot'},\n",
       " {'track': 'Like Suicide', 'artist': 'Seether'},\n",
       " {'track': 'Careless Whisper', 'artist': 'Seether'},\n",
       " {'track': 'Fake It', 'artist': 'Seether'},\n",
       " {'track': 'Walk Away From The Sun', 'artist': 'Seether'},\n",
       " {'track': 'Fallen', 'artist': 'Seether'},\n",
       " {'track': 'The Devil in I', 'artist': 'Slipknot'},\n",
       " {'track': \"A Liar's Funeral\", 'artist': 'Slipknot'},\n",
       " {'track': 'Critical Darling', 'artist': 'Slipknot'},\n",
       " {'track': 'Nero Forte', 'artist': 'Slipknot'},\n",
       " {'track': 'Death Because of Death', 'artist': 'Slipknot'},\n",
       " {'track': 'Birth Of The Cruel', 'artist': 'Slipknot'},\n",
       " {'track': 'Unsainted', 'artist': 'Slipknot'},\n",
       " {'track': 'Insert Coin', 'artist': 'Slipknot'},\n",
       " {'track': 'The Burden', 'artist': 'Slipknot'},\n",
       " {'track': 'The Negative One', 'artist': 'Slipknot'},\n",
       " {'track': 'Be Prepared for Hell', 'artist': 'Slipknot'},\n",
       " {'track': 'Custer', 'artist': 'Slipknot'},\n",
       " {'track': 'The One That Kills the Least', 'artist': 'Slipknot'},\n",
       " {'track': 'Nomadic', 'artist': 'Slipknot'},\n",
       " {'track': 'Goodbye', 'artist': 'Slipknot'},\n",
       " {'track': 'Lech', 'artist': 'Slipknot'},\n",
       " {'track': 'Skeptic', 'artist': 'Slipknot'},\n",
       " {'track': 'Killpop', 'artist': 'Slipknot'},\n",
       " {'track': 'My Pain', 'artist': 'Slipknot'},\n",
       " {'track': 'Orphan', 'artist': 'Slipknot'},\n",
       " {'track': 'Spiders', 'artist': 'Slipknot'},\n",
       " {'track': \"What's Next\", 'artist': 'Slipknot'},\n",
       " {'track': 'Red Flag', 'artist': 'Slipknot'},\n",
       " {'track': 'Broken', 'artist': 'Seether'},\n",
       " {'track': 'Solway Firth', 'artist': 'Slipknot'},\n",
       " {'track': 'Not Long for This World', 'artist': 'Slipknot'},\n",
       " {'track': 'Words As Weapons', 'artist': 'Seether'},\n",
       " {'track': 'Rise', 'artist': 'Pantera'},\n",
       " {'track': 'This Love', 'artist': 'Pantera'},\n",
       " {'track': 'Fucking Hostile', 'artist': 'Pantera'},\n",
       " {'track': 'Walk', 'artist': 'Pantera'},\n",
       " {'track': 'A New Level', 'artist': 'Pantera'},\n",
       " {'track': 'Mouth for War', 'artist': 'Pantera'},\n",
       " {'track': 'Deutschland', 'artist': 'Rammstein'},\n",
       " {'track': 'Du hast', 'artist': 'Rammstein'},\n",
       " {'track': 'Pussy', 'artist': 'Rammstein'},\n",
       " {'track': 'Zeit', 'artist': 'Rammstein'},\n",
       " {'track': 'Klavier', 'artist': 'Rammstein'},\n",
       " {'track': 'Rammlied', 'artist': 'Rammstein'},\n",
       " {'track': 'No Good (Attack the Radical)', 'artist': 'Pantera'},\n",
       " {'track': 'Forsaken', 'artist': 'Dream Theater'},\n",
       " {'track': 'In the Presence of Enemies - Part I', 'artist': 'Dream Theater'}]"
      ]
     },
     "execution_count": 12,
     "metadata": {},
     "output_type": "execute_result"
    }
   ],
   "source": [
    "data"
   ]
  },
  {
   "cell_type": "code",
   "execution_count": null,
   "metadata": {},
   "outputs": [],
   "source": []
  }
 ],
 "metadata": {
  "kernelspec": {
   "display_name": "Python 3.10.11 64-bit (microsoft store)",
   "language": "python",
   "name": "python3"
  },
  "language_info": {
   "codemirror_mode": {
    "name": "ipython",
    "version": 3
   },
   "file_extension": ".py",
   "mimetype": "text/x-python",
   "name": "python",
   "nbconvert_exporter": "python",
   "pygments_lexer": "ipython3",
   "version": "3.10.11"
  },
  "orig_nbformat": 4,
  "vscode": {
   "interpreter": {
    "hash": "b1ad5e8ad7d380c83bc85e3e9d9545e0ca7f1df9662bca2fd259e79a6cf84242"
   }
  }
 },
 "nbformat": 4,
 "nbformat_minor": 2
}
