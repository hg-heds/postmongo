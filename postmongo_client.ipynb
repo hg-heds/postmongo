{
 "cells": [
  {
   "cell_type": "code",
   "execution_count": 42,
   "metadata": {},
   "outputs": [],
   "source": [
    "import sqlite3, socket, json"
   ]
  },
  {
   "cell_type": "code",
   "execution_count": 43,
   "metadata": {},
   "outputs": [],
   "source": [
    "database = sqlite3.connect('spotify.db')\n",
    "database.row_factory = lambda cursor,row: json.loads(row[0])\n",
    "cursor = database.cursor()"
   ]
  },
  {
   "cell_type": "code",
   "execution_count": 56,
   "metadata": {},
   "outputs": [],
   "source": [
    "sock = socket.socket(socket.AF_INET,socket.SOCK_STREAM)\n",
    "sock.connect(('127.0.0.1',5050))"
   ]
  },
  {
   "cell_type": "code",
   "execution_count": 57,
   "metadata": {},
   "outputs": [],
   "source": [
    "\n",
    "result = database.execute('''select json_object('track',d.track_name, 'artist',d.artist) from (select track_name, artists.artist_name as artist from tracks, artists where tracks.album_artist = artists.artist_id) as d''')"
   ]
  },
  {
   "cell_type": "code",
   "execution_count": 58,
   "metadata": {},
   "outputs": [
    {
     "data": {
      "text/plain": [
       "[{'track': 'The Fall', 'artist': 'Gojira'},\n",
       " {'track': 'Born in Winter', 'artist': 'Gojira'},\n",
       " {'track': 'Pain Is a Master', 'artist': 'Gojira'},\n",
       " {'track': 'The Gift of Guilt', 'artist': 'Gojira'},\n",
       " {'track': 'Mouth of Kala', 'artist': 'Gojira'},\n",
       " {'track': 'Planned Obsolescence', 'artist': 'Gojira'},\n",
       " {'track': 'The Wild Healer', 'artist': 'Gojira'},\n",
       " {'track': 'Liquid Fire', 'artist': 'Gojira'},\n",
       " {'track': 'The Axe', 'artist': 'Gojira'},\n",
       " {'track': \"L'enfant sauvage\", 'artist': 'Gojira'}]"
      ]
     },
     "execution_count": 58,
     "metadata": {},
     "output_type": "execute_result"
    }
   ],
   "source": [
    "result.fetchmany(10)"
   ]
  },
  {
   "cell_type": "code",
   "execution_count": 59,
   "metadata": {},
   "outputs": [],
   "source": [
    "while True:\n",
    "    res = result.fetchmany(100)\n",
    "    if not res: break\n",
    "    sock.send(json.dumps({'table':'tracks','data':res}).encode('utf-8')+b':::')"
   ]
  },
  {
   "cell_type": "code",
   "execution_count": 41,
   "metadata": {},
   "outputs": [],
   "source": [
    "cursor.close()\n",
    "database.close()\n",
    "sock.close()"
   ]
  },
  {
   "cell_type": "code",
   "execution_count": null,
   "metadata": {},
   "outputs": [],
   "source": []
  }
 ],
 "metadata": {
  "kernelspec": {
   "display_name": "Python 3.10.11 64-bit (microsoft store)",
   "language": "python",
   "name": "python3"
  },
  "language_info": {
   "codemirror_mode": {
    "name": "ipython",
    "version": 3
   },
   "file_extension": ".py",
   "mimetype": "text/x-python",
   "name": "python",
   "nbconvert_exporter": "python",
   "pygments_lexer": "ipython3",
   "version": "3.10.11"
  },
  "orig_nbformat": 4,
  "vscode": {
   "interpreter": {
    "hash": "b1ad5e8ad7d380c83bc85e3e9d9545e0ca7f1df9662bca2fd259e79a6cf84242"
   }
  }
 },
 "nbformat": 4,
 "nbformat_minor": 2
}
